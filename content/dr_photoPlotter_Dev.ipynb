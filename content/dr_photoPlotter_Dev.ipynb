{
  "metadata": {
    "kernelspec": {
      "name": "python",
      "display_name": "Python (Pyodide)",
      "language": "python"
    },
    "language_info": {
      "codemirror_mode": {
        "name": "python",
        "version": 3
      },
      "file_extension": ".py",
      "mimetype": "text/x-python",
      "name": "python",
      "nbconvert_exporter": "python",
      "pygments_lexer": "ipython3",
      "version": "3.8"
    }
  },
  "nbformat_minor": 4,
  "nbformat": 4,
  "cells": [
    {
      "cell_type": "markdown",
      "source": "# Explore RNAseq of zebrafish photoreceptors including developmental date\n### [Transcription factors underlying photoreceptor diversity, Angueyra et al. eLife 2023;12:e81579](https://doi.org/10.7554/eLife.81579)",
      "metadata": {}
    },
    {
      "cell_type": "markdown",
      "source": "This notebook can be accessed here:  \n[angueyraLab.github.io/drRNAseq/lab](angueyranih.github.io/drRNAseq/lab)  \n\n## Follow instructions below to explore dataset openly available at: https://github.com/angueyraLab/drRNAseq.  \nAND  \n## Make comparisons with published RNAseq datasets containing zebrafish adult photoreceptors, including:  \n- [Ogawa and Corbo (2021)](https://doi.org/10.1038/s41598-021-96837-z): FACS + 10x from adult rods, cones and bipolar cells  \n- [Hoang _et al._ (2020)](https://doi.org/10.1126/science.abb8598): 10x from whole retina (extracted data from developing and adult photoreceptors and reclustered)  \n- [Sun, Galicia and Stenkamp (2018)](https://doi.org/10.1186/s12864-018-4499-y): FACS + bulk RNAseq from adult rods (GFP+) and other retinal cells (GFP-)  \n----\n----",
      "metadata": {}
    },
    {
      "cell_type": "markdown",
      "source": "### How to use the notebook\n- To explore the datasets, you will need to run the code in the cells below.  \n- To run a cell, you need to click unto it to select it and press \"Ctrl\"+\"Enter\" or the small *play* symbol in the navigation bar on top of this notebook.  \n- Cells that are currently running display [\\*] on the left.  \n- Cells that have finished running will display a number instead (e.g.[8])\n---\n---\n#### Saving plots:\n- Right click on the image and click on \"Create New View for Output\"\n- Right click on image in Output View panel and click on \"Save As...\"",
      "metadata": {
        "tags": []
      }
    },
    {
      "cell_type": "markdown",
      "source": "#### First: load python environment",
      "metadata": {}
    },
    {
      "cell_type": "code",
      "source": "import pyodide_kernel\nprint(\"Successfully loaded pyolite version {0}\".format(pyodide_kernel.__version__))",
      "metadata": {
        "trusted": true
      },
      "outputs": [],
      "execution_count": null
    },
    {
      "cell_type": "markdown",
      "source": "#### Second: load all necessary extensions (this may take a few minutes...)",
      "metadata": {}
    },
    {
      "cell_type": "code",
      "source": "print(\"Loading extensions...\")\nimport numpy as np\nimport pandas as pd\nimport matplotlib.pyplot as plt\nimport matplotlib.font_manager as font_manager\nfrom scipy.stats import zscore\nimport os\nimport pyodide\nimport piplite\n\n# Load plotting function\nURL = 'https://raw.githubusercontent.com/angueyraLab/drRNAseq/main/content/juanPlot-0a3-py2.py3-none-any.whl'\nawait piplite.install(URL)\nfrom juanPlot import *\nprint(\"Successfully loaded extensions!\")\n\n\n# load datasets\nprint(\"Loading datasets...\")\ngf = pd.read_csv('./data/Angueyra2021_Photoreceptors.csv')\nprint(\"\\t Angueyra et al. (2022)\")\n\nzfO = pd.read_csv('./data/Ogawa2021_10x_photoreceptors.csv')\nprint(\"\\t Ogawa and Corbo (2021)\")\n\nzfH = pd.read_csv('./data/Hoang2020_10x_photoreceptors.csv')\nprint(\"\\t Hoang et al. (2020)\")\n\nzfS = pd.read_csv('./data/Sun2018_FACS_Rods.csv')\nprint(\"\\t Sun, Galicia, Stenkamp (2018)\")\n\nprint(\"Successfully loaded datasets!\\n\\n\")\n",
      "metadata": {
        "trusted": true
      },
      "outputs": [],
      "execution_count": null
    },
    {
      "cell_type": "markdown",
      "source": "#### Define some plotting bases and colors",
      "metadata": {}
    },
    {
      "cell_type": "code",
      "source": "# plotStyle = 'Light'\nplotStyle = 'Dark'\n\nheatmapNormalization = True\nheatmapNormalization = False\n\n# photoreceptor Colors\npC = {\n    'r' : '#747474', # Rods\n    'u' : '#B540B7', # UV cones\n    's' : '#4669F2', # S cones\n    'm' : '#04CD22', # M cones\n    'l' : '#CC2C2A', # L cones\n    'm4': '#cdcd04', # opn1mws4-expressing M cones\n    'onBC': '#ccf2ff', # on bipolar cells\n    'offBC': '#663d00', # off bipolar cells\n    'plt' : '',\n    'zfO': '',\n}\n\n# default parameters for plotting\nif plotStyle=='Dark':\n    # dark background\n    plt.style.use('dark_background')\n    params = {\"ytick.color\" : \"w\", \"xtick.color\" : \"w\",\n              \"axes.labelcolor\" : \"w\", \"axes.edgecolor\" : \"w\",\n             \"axes.linewidth\" : 3,\n             \"xtick.major.width\" : 3, \"ytick.major.width\" : 3,\n             \"xtick.major.size\" : 8, \"ytick.major.size\" : 8,\n             \"text.color\" : \"w\"}\n    plt.rcParams.update(params)\n    baseColor = '#ffffff' #white\nelse:\n    # white background\n    plt.style.use('default')\n    params = {\"ytick.color\" : \"k\", \"xtick.color\" : \"k\",\n              \"axes.labelcolor\" : \"k\", \"axes.edgecolor\" : \"k\",\n             \"axes.linewidth\" : 3,\n             \"xtick.major.width\" : 3, \"ytick.major.width\" : 3,\n             \"xtick.major.size\" : 8, \"ytick.major.size\" : 8,\n             \"text.color\" : \"k\"}\n    plt.rcParams.update(params)\n    baseColor = '#000000' #black\n    \n\n\nprint(\"Plotting style is: {0}\".format(plotStyle))",
      "metadata": {
        "trusted": true
      },
      "outputs": [],
      "execution_count": null
    },
    {
      "cell_type": "markdown",
      "source": "***\n# Index <a id='Index'></a>\n- [Bar plot for single gene: Angueyra et al. (2022)](#barPlot)\n- [heatMap for gene family: Angueyra et al. (2021)](#heatMap)\n- [heatMap for gene list: Angueyra et al. (2021)](#heatMapList)\n- [Bar plot for single gene: across studies](#barPlot_otherStudies)\n- [heatMap for gene family: across studies](#heatMap_otherStudies)\n- [heatMap for gene list: across studies](#heatMapList_otherStudies)\n- [Bar plot for single gene: retinal cells and photoreceptor development](#barPlot_ret)\n- [heatMap for gene family: retinal cells and photoreceptor development](#heatMap_ret)\n- [heatMap for gene list: retinal cells and photoreceptor development](#heatMapList_ret)",
      "metadata": {}
    },
    {
      "cell_type": "markdown",
      "source": "***\n## Bar plot for single gene: provide gene symbol (e.g. '_tbx2a_')<a id='barPlot'></a>\n***\n[Back to Index](#Index)",
      "metadata": {}
    },
    {
      "cell_type": "code",
      "source": "geneSymbol = 'rho' # replace geneSymbol here and rerun cell to replot\n\nbarData = gf[gf['symbol']==geneSymbol] #get data (should add a check here with isin)\nfH, axH = plt.subplots(figsize=(8,6))\npH = plotBars(barData, geneSymbol, ax=axH, pC=pC)\nplt.subplots_adjust(left=0.15, right=.95, top=0.90, bottom=0.1)\nplt.tight_layout()\nplt.show()",
      "metadata": {
        "trusted": true
      },
      "outputs": [],
      "execution_count": null
    },
    {
      "cell_type": "markdown",
      "source": "***\n## HeatMap for gene family: provide gene symbol prefix (e.g. '_opn1_')<a id='heatMap'></a>\n> retrieves all genes whose symbol starts with defined geneSymbol  \n***\n\n[Back to Index](#Index)",
      "metadata": {}
    },
    {
      "cell_type": "code",
      "source": "# display option for heatmap normalization\nheatmapNormalization = False",
      "metadata": {
        "trusted": true
      },
      "outputs": [],
      "execution_count": null
    },
    {
      "cell_type": "code",
      "source": "geneSymbol='opn' # replace geneSymbol here and rerun cell to replot\n\nheatmapData = gf[gf['symbol'].str.startswith(geneSymbol)]\nheatmapData = heatmapData.sort_values(by=[\"symbol\"])\nfH, axH = plt.subplots(figsize=(20,(0.5*heatmapData.shape[0])+4))\nhmH, cbH = heatmap(heatmapData, pC = pC, norm=heatmapNormalization)\nplt.tight_layout()\nplt.show()",
      "metadata": {
        "trusted": true
      },
      "outputs": [],
      "execution_count": null
    },
    {
      "cell_type": "markdown",
      "source": "***\n## HeatMap for gene list: provide gene symbols separated by \"|\" (e.g. '_tbx2a_|_tbx2b_|_foxq2_')<a id='heatMapList'></a>\n> retrieves all genes in list and creates heatmap  \n***\n\n[Back to Index](#Index)",
      "metadata": {}
    },
    {
      "cell_type": "code",
      "source": "# display option for heatmap normalization\n# heatmapNorm\nheatmapNormalization = True",
      "metadata": {
        "trusted": true
      },
      "outputs": [],
      "execution_count": null
    },
    {
      "cell_type": "code",
      "source": "geneSymbol='tbx2a|tbx2b|foxq2|nr2e3|skor1a|sall1a|lrrfip1a' # replace geneSymbol here and rerun cell to replot\n\nheatmapData = gf[gf['symbol'].str.contains(geneSymbol)]\nheatmapData = heatmapData.sort_values(by=[\"symbol\"])\nfH, axH = plt.subplots(figsize=(20,(0.5*heatmapData.shape[0])+4))\nhmH, cbH = heatmap(heatmapData, pC = pC, norm=heatmapNormalization)\nplt.tight_layout()\nplt.show()",
      "metadata": {
        "trusted": true
      },
      "outputs": [],
      "execution_count": null
    },
    {
      "cell_type": "markdown",
      "source": "***\n## Bar plots for single gene across studies: provide gene symbol (e.g. '_foxq2_')<a id='barPlot_otherStudies'></a>\n***\n[Back to Index](#Index)",
      "metadata": {}
    },
    {
      "cell_type": "code",
      "source": "geneSymbol = 'rho' # replace geneSymbol here and rerun cell to replot\n\nbarData = gf[gf['symbol']==geneSymbol] # get data\nbarDataO = zfO[zfO['symbol']==geneSymbol] #get data\nbarDataH = zfH[zfH['symbol']==geneSymbol] #get data\nbarDataS = zfS[zfS['symbol']==geneSymbol] #get data\nfH, axH = plt.subplots(4,2,figsize=(7*2,6*4))\npH0 = plotBars(barData, geneSymbol, ax=axH[0,0], pC=pC)\nplt.figtext(0.53,0.88,\"Angueyra et al. (2022)\", va=\"center\", ha=\"center\", rotation= 270, size=12)\npH1 = plotBars_Ogawa2021(barDataO, geneSymbol, axH[1,0], pC, pctPlot=False)\npH2 = plotBars_Ogawa2021(barDataO, geneSymbol, axH[1,1], pC, pctPlot=True)\nplt.figtext(0.98,0.62,\"Ogawa and Corbo (2021)\", va=\"center\", ha=\"center\", rotation= 270, size=12)\npH3 = plotBars_Hoang2020(barDataH, geneSymbol, axH[2,0], pC, pctPlot=False)\npH4 = plotBars_Hoang2020(barDataH, geneSymbol, axH[2,1], pC, pctPlot=True)\nplt.figtext(0.98,0.38,\"Hoang et al. (2020)\", va=\"center\", ha=\"center\", rotation= 270, size=12)\npH5 = plotBars_Sun2018(barDataS, geneSymbol, axH[3,0], pC)\naxH[0,1].remove()\naxH[3,1].remove()\nplt.figtext(0.50,0.12,\"Sun, Galicia and Stenkamp (2018)\", va=\"center\", ha=\"center\", rotation= 270, size=12)\nplt.tight_layout()\nplt.show()",
      "metadata": {
        "trusted": true
      },
      "outputs": [],
      "execution_count": null
    },
    {
      "cell_type": "markdown",
      "source": "***\n## HeatMap for gene family across studies: provide gene symbol prefix (e.g. '_tbx_')<a id='heatMap_otherStudies'></a>\n> retrieves all genes whose symbol starts with defined geneSymbol  \n***\n\n[Back to Index](#Index)",
      "metadata": {
        "tags": []
      }
    },
    {
      "cell_type": "code",
      "source": "# display option for normalization\n# heatmapNorm\nheatmapNormalization = False",
      "metadata": {
        "trusted": true
      },
      "outputs": [],
      "execution_count": null
    },
    {
      "cell_type": "code",
      "source": "geneSymbol='tbx' # replace geneSymbol here and rerun cell to replot\n\nheatmapData = gf[gf['symbol'].str.startswith(geneSymbol)]\nheatmapData = heatmapData.sort_values(by=[\"symbol\"])\nheatmapDataO = zfO[zfO['symbol'].str.startswith(geneSymbol)]\nheatmapDataO = heatmapDataO.sort_values(by=[\"symbol\"])\nheatmapDataH = zfH[zfH['symbol'].str.startswith(geneSymbol)]\nheatmapDataH = heatmapDataH.sort_values(by=[\"symbol\"])\nheatmapDataS = zfS[zfS['symbol'].str.startswith(geneSymbol)]\nheatmapDataS = heatmapDataS.sort_values(by=[\"symbol\"])\n\n\nfH, axH = plt.subplots(figsize=(20,(heatmapDataO.shape[0])+4))\nhm, cb = heatmap(heatmapData, pC=pC, norm=heatmapNormalization)\nplt.figtext(0.98,0.015,\"Angueyra et al. (2022)\", va=\"center\", ha=\"right\", rotation= 0, size=12)\nplt.tight_layout()\nplt.show()\nfH, axHO = plt.subplots(figsize=(16,(heatmapDataO.shape[0])+6))\nhmO, cbO = heatmap_Ogawa2021(heatmapDataO, pC=pC, pctPlot=False, norm=heatmapNormalization)\nplt.figtext(0.98,0.015,\"Ogawa and Corbo (2021)\", va=\"center\", ha=\"right\", rotation= 0, size=12)\nplt.tight_layout()\nplt.show()\nfH, axHH = plt.subplots(figsize=(14,(heatmapDataH.shape[0])+6))\nhmH, cbH = heatmap_Hoang2020(heatmapDataH, pC=pC, pctPlot=False, norm=heatmapNormalization)\nplt.figtext(0.98,0.015,\"Hoang et al. (2020)\", va=\"center\", ha=\"right\", rotation= 0, size=12)\nplt.tight_layout()\nplt.show()\nfH, axHS = plt.subplots(figsize=(14,(heatmapDataS.shape[0])+6))\nhmS, cbS = heatmap_Sun2018(heatmapDataS, pC=pC, norm=heatmapNormalization)\nplt.figtext(0.98,0.015,\"Sun, Galicia and Stenkamp (2018)\", va=\"center\", ha=\"right\", rotation= 0, size=12)\nplt.tight_layout()\nplt.show()\n",
      "metadata": {
        "trusted": true
      },
      "outputs": [],
      "execution_count": null
    },
    {
      "cell_type": "markdown",
      "source": "***\n## HeatMap for gene list across studies: provide gene symbol separated by \"|\" (e.g. '_tbx2a_|_tbx2b_|_foxq2_')<a id='heatMapList_otherStudies'></a>\n> retrieves all genes in list and creates heatmap  \n***\n\n[Back to Index](#Index)",
      "metadata": {
        "tags": []
      }
    },
    {
      "cell_type": "code",
      "source": "# display option for normalization\nheatmapNormalization = False",
      "metadata": {
        "trusted": true
      },
      "outputs": [],
      "execution_count": null
    },
    {
      "cell_type": "code",
      "source": "geneSymbol='tbx2a|tbx2b|foxq2' # replace geneSymbol here and rerun cell to replot\n\nheatmapData = gf[gf['symbol'].str.contains(geneSymbol)]\nheatmapData = heatmapData.sort_values(by=[\"symbol\"])\nheatmapDataO = zfO[zfO['symbol'].str.contains(geneSymbol)]\nheatmapDataO = heatmapDataO.sort_values(by=[\"symbol\"])\nheatmapDataH = zfH[zfH['symbol'].str.contains(geneSymbol)]\nheatmapDataH = heatmapDataH.sort_values(by=[\"symbol\"])\nheatmapDataS = zfS[zfS['symbol'].str.contains(geneSymbol)]\nheatmapDataS = heatmapDataS.sort_values(by=[\"symbol\"])\n\nfH, axH = plt.subplots(figsize=(20,(heatmapDataO.shape[0])+4))\nhm, cb = heatmap(heatmapData, pC=pC, norm=heatmapNormalization)\nplt.figtext(0.98,0.015,\"Angueyra et al. (2022)\", va=\"center\", ha=\"right\", rotation= 0, size=12)\nplt.tight_layout()\nplt.show()\nfH, axHO = plt.subplots(figsize=(16,(heatmapDataO.shape[0])+6))\nhmO, cbO = heatmap_Ogawa2021(heatmapDataO, pC=pC, pctPlot=False, norm=heatmapNormalization)\nplt.figtext(0.98,0.015,\"Ogawa and Corbo (2021)\", va=\"center\", ha=\"right\", rotation= 0, size=12)\nplt.tight_layout()\nplt.show()\nfH, axHH = plt.subplots(figsize=(14,(heatmapDataH.shape[0])+6))\nhmH, cbH = heatmap_Hoang2020(heatmapDataH, pC=pC, pctPlot=False, norm=heatmapNormalization)\nplt.figtext(0.98,0.015,\"Hoang et al. (2020)\", va=\"center\", ha=\"right\", rotation= 0, size=12)\nplt.tight_layout()\nplt.show()\nfH, axHS = plt.subplots(figsize=(14,(heatmapDataS.shape[0])+6))\nhmS, cbS = heatmap_Sun2018(heatmapDataS, pC=pC, norm=heatmapNormalization)\nplt.figtext(0.98,0.015,\"Sun, Galicia and Stenkamp (2018)\", va=\"center\", ha=\"right\", rotation= 0, size=12)\nplt.tight_layout()\nplt.show()",
      "metadata": {
        "trusted": true
      },
      "outputs": [],
      "execution_count": null
    },
    {
      "cell_type": "markdown",
      "source": "***\n# Development\n***",
      "metadata": {}
    },
    {
      "cell_type": "markdown",
      "source": "***\n## Bar plot for single gene for Hoang et al. (2021): retinal cells and photoreceptor development<a id='barPlot_ret'></a>\n> provide gene symbol (e.g. '_tbx2a_')\n***\n[Back to Index](#Index)",
      "metadata": {}
    },
    {
      "cell_type": "code",
      "source": "pC_Ret = {\n            'RPC' : '#DADADA', # Retinal progenitor cell\n            'PRPC' : '#dfdac8', # Photoreceptor progenitor cell\n            'Cones_larval' : '#dcc360', #\n            'Cones_adult' : '#ffd429', #\n            'Rods' : '#7d7d7d', #\n            'HC' : '#FC7715', # Horizontal cells\n            'BC_larval' : '#ccf2ff', # Bipolar cell (developing)\n            'BC_adult' : '#663d00', # Bipolar cell (mature)\n            'AC_larval' : '#3DF591', # Amacrine cell (developing)\n            'ACgaba' : '#3DF5C3', #\n            'ACgly' : '#56F53D', #\n            'RGC_larval' : '#F53D59', # Retinal Ganglion cell (developing)\n            'RGC_adult' : '#BB0622', # Retinal Ganglion cell (mature)\n            'MGi' : '#EA9D81', # Muller glia (immature)\n            'MG1' : '#A2644E', # Muller glia (mature)\n            'MG2' : '#7E4835', # Muller glia (mature)\n            'MG3' : '#613728', # Muller glia (mature)\n        }\n\npC_PhotoDev = {\n    'RPC' : \"#DADADA\", # Retinal progenitor cell\n    'PRP' : \"#dfdac8\", # Photoreceptor progenitor cell\n    'Cle' : '#dacd9a', # Cone, larval early\n    'Clm' : '#dcc360', # Cone, larval mid\n    'Cll' : '#cca819', # Cone, larval late\n    'C' : '#ffd429', # Cone adult\n    'Rll' : '#a3a3a3', # Rod, larval late\n    'R' : '#7d7d7d', # Rod adult\n}\n\npC_42hpf = {\n    'RPC' : '#DADADA', # Retinal progenitor cell\n    'PR' : '#dcc360', # Photoreceptor cell (developing)\n    'HC_AC' : '#3DF591', # Horizontal and Amacrine cell (developing)\n    'RGC' : '#F53D59', # Retinal Ganglion cell (developing)\n}\n\nzfHRet = pd.read_csv('./data/Hoang2020_10x_retCells.csv')\nprint(\"\\t Hoang et al. (2020): Retinal Cells\")\n\nzfHPhotoDev = pd.read_csv('./data/Hoang2020_10x_photoDev.csv')\nprint(\"\\t Hoang et al. (2020): Photoreceptor development\")\n\nzfX = pd.read_csv('./data/Xu2020_retAll.csv')\nprint(\"\\t Xu et al. (2020): retinal development\")\n\nzfN = pd.read_csv('./data/Nerli2022_42hpfRet.csv')\nprint(\"\\t Nerli et al. (2022): 42hpf\")\n\nprint(\"Successfully loaded datasets!\\n\\n\")",
      "metadata": {
        "trusted": true
      },
      "outputs": [],
      "execution_count": null
    },
    {
      "cell_type": "code",
      "source": "geneSymbol = 'rho' # replace geneSymbol here and rerun cell to replot\n\nbarDataX = zfX[zfX['symbol']==geneSymbol] #get data (should add a check here with isin)\nfH, axH = plt.subplots(figsize=(25*1.5,6*1.5))\npH = plotBars_Xu2020_RetDev(barDataX, geneSymbol, ax=axH)\nplt.subplots_adjust(left=0.15, right=.95, top=0.90, bottom=0.1)\nplt.tight_layout()\nplt.show()\n\n\nbarDataPhotoDev = zfHPhotoDev[zfHPhotoDev['symbol']==geneSymbol] #get data (should add a check here with isin)\nfH, axH = plt.subplots(figsize=(8*1.5,6*1.5))\npH = plotBars_Hoang2020_PhotoDev(barDataPhotoDev, geneSymbol, ax=axH, pC=pC_PhotoDev)\nplt.subplots_adjust(left=0.15, right=.95, top=0.90, bottom=0.1)\nplt.tight_layout()\nplt.show()\n\nbarDataHRet = zfHRet[zfHRet['symbol']==geneSymbol] #get data (should add a check here with isin)\nfH, axH = plt.subplots(figsize=(8*1.5,6*1.5))\npH = plotBars_Hoang2020_Ret(barDataHRet, geneSymbol, ax=axH, pC=pC_Ret)\nplt.subplots_adjust(left=0.15, right=.95, top=0.90, bottom=0.1)\nplt.tight_layout()\nplt.show()\n\nbarDataN = zfN[zfN['symbol']==geneSymbol] #get data (should add a check here with isin)\nfH, axH = plt.subplots(figsize=(8*1.5,6*1.5))\npH = plotBars_Nerli2022(barDataN, geneSymbol, ax=axH, pC=pC_42hpf)\nplt.subplots_adjust(left=0.15, right=.95, top=0.90, bottom=0.1)\nplt.tight_layout()\nplt.show()",
      "metadata": {
        "trusted": true
      },
      "outputs": [],
      "execution_count": null
    },
    {
      "cell_type": "markdown",
      "source": "***\n## HeatMap for gene family across studies: retinal cells and photoreceptor development<a id='heatMap_ret'></a>\n> retrieves all genes whose symbol starts with defined geneSymbol  \n***\n\n[Back to Index](#Index)",
      "metadata": {}
    },
    {
      "cell_type": "code",
      "source": "geneSymbol='tbx2' # replace geneSymbol here and rerun cell to replot\n\nheatmapDataX = zfX[zfX['symbol'].str.startswith(geneSymbol)]\nheatmapDataX = heatmapDataX.sort_values(by=[\"symbol\"])\nfH, axH = plt.subplots(figsize=(60,(0.5*heatmapDataX.shape[0])+5))\nhmH, cbH = heatmap_Xu2020_RetDev(heatmapDataX, norm=heatmapNormalization)\nplt.tight_layout()\nplt.show()\n\nheatmapDataHRet = zfHRet[zfHRet['symbol'].str.startswith(geneSymbol)]\nheatmapDataHRet = heatmapDataHRet.sort_values(by=[\"symbol\"])\nfH, axH = plt.subplots(figsize=(20,(0.5*heatmapDataHRet.shape[0])+8))\nhmH, cbH = heatmap_Hoang2020_Ret(heatmapDataHRet, pC = pC_Ret, norm=heatmapNormalization)\nplt.tight_layout()\nplt.show()\n\nheatmapDataHPhotoDev = zfHPhotoDev[zfHPhotoDev['symbol'].str.startswith(geneSymbol)]\nheatmapDataHPhotoDev = heatmapDataHPhotoDev.sort_values(by=[\"symbol\"])\nfH, axH = plt.subplots(figsize=(20,(0.5*heatmapDataHPhotoDev.shape[0])+8))\nhmH, cbH = heatmap_Hoang2020_PhotoDev(heatmapDataHPhotoDev, pC = pC_PhotoDev, norm=heatmapNormalization)\nplt.tight_layout()\nplt.show()\n\n\nheatmapDataN = zfN[zfN['symbol'].str.startswith(geneSymbol)]\nheatmapDataN = heatmapDataN.sort_values(by=[\"symbol\"])\nfH, axH = plt.subplots(figsize=(20,(0.5*heatmapDataN.shape[0])+5))\nhmH, cbH = heatmap_Nerli2022(heatmapDataN, pC = pC_42hpf, norm=heatmapNormalization)\nplt.tight_layout()\nplt.show()",
      "metadata": {
        "trusted": true
      },
      "outputs": [],
      "execution_count": null
    },
    {
      "cell_type": "markdown",
      "source": "***\n## HeatMap for gene list across studies: retinal cells and photoreceptor development<a id='heatMapList_ret'></a>\n> retrieves all genes in list and creates heatmap  \n> provide gene symbol separated by \"|\" (e.g. 'tbx2a|tbx2b|foxq2'). \n***\n\n[Back to Index](#Index)",
      "metadata": {}
    },
    {
      "cell_type": "code",
      "source": "geneSymbol='tbx2a|tbx2b|foxq2' # replace geneSymbol here and rerun cell to replot\n\n\nheatmapDataX = zfX[zfX['symbol'].str.contains(geneSymbol)]\nheatmapDataX = heatmapDataX.sort_values(by=[\"symbol\"])\nfH, axH = plt.subplots(figsize=(20,(0.5*heatmapDataX.shape[0])+5))\nhmH, cbH = heatmap_Xu2020_RetDev(heatmapDataN, norm=heatmapNormalization)\nplt.tight_layout()\nplt.show()\n\nheatmapDataHRet = zfHRet[zfHRet['symbol'].str.contains(geneSymbol)]\nheatmapDataHRet = heatmapDataHRet.sort_values(by=[\"symbol\"])\nfH, axH = plt.subplots(figsize=(20,(0.5*heatmapDataHRet.shape[0])+8))\nhmH, cbH = heatmap_Hoang2020_Ret(heatmapDataHRet, pC = pC_Ret, norm=heatmapNormalization)\nplt.tight_layout()\nplt.show()\n\nheatmapDataHPhotoDev = zfHPhotoDev[zfHPhotoDev['symbol'].str.contains(geneSymbol)]\nheatmapDataHPhotoDev = heatmapDataHPhotoDev.sort_values(by=[\"symbol\"])\nfH, axH = plt.subplots(figsize=(20,(0.5*heatmapDataHPhotoDev.shape[0])+8))\nhmH, cbH = heatmap_Hoang2020_PhotoDev(heatmapDataHPhotoDev, pC = pC_PhotoDev, norm=heatmapNormalization)\nplt.tight_layout()\nplt.show()\n\n\nheatmapDataN = zfN[zfN['symbol'].str.contains(geneSymbol)]\nheatmapDataN = heatmapDataN.sort_values(by=[\"symbol\"])\nfH, axH = plt.subplots(figsize=(20,(0.5*heatmapDataN.shape[0])+5))\nhmH, cbH = heatmap_Nerli2022(heatmapDataN, pC = pC_42hpf, norm=heatmapNormalization)\nplt.tight_layout()\nplt.show()",
      "metadata": {
        "trusted": true
      },
      "outputs": [],
      "execution_count": null
    },
    {
      "cell_type": "markdown",
      "source": "# FIN",
      "metadata": {}
    },
    {
      "cell_type": "markdown",
      "source": "",
      "metadata": {}
    },
    {
      "cell_type": "code",
      "source": "",
      "metadata": {
        "trusted": true
      },
      "outputs": [],
      "execution_count": null
    },
    {
      "cell_type": "code",
      "source": "",
      "metadata": {
        "trusted": true
      },
      "outputs": [],
      "execution_count": null
    },
    {
      "cell_type": "code",
      "source": "",
      "metadata": {
        "trusted": true
      },
      "outputs": [],
      "execution_count": null
    },
    {
      "cell_type": "code",
      "source": "",
      "metadata": {
        "trusted": true
      },
      "outputs": [],
      "execution_count": null
    }
  ]
}